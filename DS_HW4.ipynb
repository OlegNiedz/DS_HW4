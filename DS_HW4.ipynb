{
  "nbformat": 4,
  "nbformat_minor": 0,
  "metadata": {
    "colab": {
      "provenance": []
    },
    "kernelspec": {
      "name": "python3",
      "display_name": "Python 3"
    },
    "language_info": {
      "name": "python"
    }
  },
  "cells": [
    {
      "cell_type": "code",
      "source": [
        "import numpy as np\n"
      ],
      "metadata": {
        "id": "0LZ7Rg6VAN8A"
      },
      "execution_count": 2,
      "outputs": []
    },
    {
      "cell_type": "markdown",
      "source": [
        "1. Створіть одновимірний масив (вектор) з першими 10-ма натуральними числами та виведіть його значення."
      ],
      "metadata": {
        "id": "eRgpMePaBkdI"
      }
    },
    {
      "cell_type": "code",
      "source": [
        "np.arange(1,11)"
      ],
      "metadata": {
        "colab": {
          "base_uri": "https://localhost:8080/"
        },
        "id": "l1jfSGdhCAEG",
        "outputId": "60609f3c-c2fd-4e55-d998-9aada6b6367a"
      },
      "execution_count": 3,
      "outputs": [
        {
          "output_type": "execute_result",
          "data": {
            "text/plain": [
              "array([ 1,  2,  3,  4,  5,  6,  7,  8,  9, 10])"
            ]
          },
          "metadata": {},
          "execution_count": 3
        }
      ]
    },
    {
      "cell_type": "markdown",
      "source": [
        "2. Створіть двовимірний масив (матрицю) розміром 3x3, заповніть його нулями та виведіть його значення.\n",
        "\n"
      ],
      "metadata": {
        "id": "Tl1wx0lFCNu2"
      }
    },
    {
      "cell_type": "code",
      "source": [
        "np.zeros((3,3),dtype=int)\n"
      ],
      "metadata": {
        "colab": {
          "base_uri": "https://localhost:8080/"
        },
        "id": "iLKym96ECgBF",
        "outputId": "f89bf678-08f5-4c54-e2f8-938e552e0f64"
      },
      "execution_count": 4,
      "outputs": [
        {
          "output_type": "execute_result",
          "data": {
            "text/plain": [
              "array([[0, 0, 0],\n",
              "       [0, 0, 0],\n",
              "       [0, 0, 0]])"
            ]
          },
          "metadata": {},
          "execution_count": 4
        }
      ]
    },
    {
      "cell_type": "markdown",
      "source": [
        "3. Створіть масив розміром 5x5, заповніть його випадковими цілими числами в діапазоні від 1 до 10 та виведіть його значення."
      ],
      "metadata": {
        "id": "sJFc0q5CDi-i"
      }
    },
    {
      "cell_type": "code",
      "source": [
        "np.random.randint(1,11, size=(5,5))\n"
      ],
      "metadata": {
        "colab": {
          "base_uri": "https://localhost:8080/"
        },
        "id": "cpJPryiuDmLJ",
        "outputId": "5c906103-b413-4e3f-ddb0-abf1efb7dc1a"
      },
      "execution_count": 5,
      "outputs": [
        {
          "output_type": "execute_result",
          "data": {
            "text/plain": [
              "array([[ 5,  8,  1,  6,  7],\n",
              "       [ 3, 10,  4,  3,  2],\n",
              "       [ 3,  3,  5,  3,  1],\n",
              "       [ 2,  5,  8, 10,  6],\n",
              "       [ 5,  2,  4,  3,  1]])"
            ]
          },
          "metadata": {},
          "execution_count": 5
        }
      ]
    },
    {
      "cell_type": "markdown",
      "source": [
        "4. Створіть масив розміром 4x4, заповніть його випадковими дійсними числами в діапазоні від 0 до 1 та виведіть його значення.\n"
      ],
      "metadata": {
        "id": "hSOpTscHEm1O"
      }
    },
    {
      "cell_type": "code",
      "source": [
        "np.random.rand(4,4)"
      ],
      "metadata": {
        "colab": {
          "base_uri": "https://localhost:8080/"
        },
        "id": "FxwhZaTIEuMU",
        "outputId": "4b01acd9-1c3c-4c5f-a881-47cc022b8efd"
      },
      "execution_count": 6,
      "outputs": [
        {
          "output_type": "execute_result",
          "data": {
            "text/plain": [
              "array([[0.60764773, 0.84814958, 0.15488405, 0.87501508],\n",
              "       [0.17474229, 0.36139983, 0.77949119, 0.87754309],\n",
              "       [0.34288012, 0.3181853 , 0.05579861, 0.64815529],\n",
              "       [0.01817733, 0.42642198, 0.16033195, 0.5045677 ]])"
            ]
          },
          "metadata": {},
          "execution_count": 6
        }
      ]
    },
    {
      "cell_type": "markdown",
      "source": [
        "5. Створіть два одновимірних масиви розміром 5, заповніть їх випадковими цілими числами в діапазоні від 1 до 10 та виконайте на них поелементні операції додавання, віднімання та множення."
      ],
      "metadata": {
        "id": "yRbUSVETJaeG"
      }
    },
    {
      "cell_type": "code",
      "source": [
        "d1=np.random.randint(1,11, 5)\n",
        "d2=np.random.randint(1,11, 5)\n",
        "d1,d2"
      ],
      "metadata": {
        "colab": {
          "base_uri": "https://localhost:8080/"
        },
        "id": "ewXjSh4GJd9r",
        "outputId": "ad379ef8-2af4-46e4-bb8e-9e61650c6c9b"
      },
      "execution_count": 7,
      "outputs": [
        {
          "output_type": "execute_result",
          "data": {
            "text/plain": [
              "(array([8, 9, 1, 3, 1]), array([9, 4, 3, 9, 2]))"
            ]
          },
          "metadata": {},
          "execution_count": 7
        }
      ]
    },
    {
      "cell_type": "code",
      "source": [
        "d1+d2"
      ],
      "metadata": {
        "colab": {
          "base_uri": "https://localhost:8080/"
        },
        "id": "NcXpnXzFMNdS",
        "outputId": "faff6e12-e170-4332-a2b8-846bcc7019f4"
      },
      "execution_count": 8,
      "outputs": [
        {
          "output_type": "execute_result",
          "data": {
            "text/plain": [
              "array([17, 13,  4, 12,  3])"
            ]
          },
          "metadata": {},
          "execution_count": 8
        }
      ]
    },
    {
      "cell_type": "code",
      "source": [
        "d1-d2"
      ],
      "metadata": {
        "colab": {
          "base_uri": "https://localhost:8080/"
        },
        "id": "PjKWHwsNMS2k",
        "outputId": "2b36b5bb-1e32-4185-b846-f63557472da4"
      },
      "execution_count": 9,
      "outputs": [
        {
          "output_type": "execute_result",
          "data": {
            "text/plain": [
              "array([-1,  5, -2, -6, -1])"
            ]
          },
          "metadata": {},
          "execution_count": 9
        }
      ]
    },
    {
      "cell_type": "code",
      "source": [
        "d1*d2"
      ],
      "metadata": {
        "colab": {
          "base_uri": "https://localhost:8080/"
        },
        "id": "o_8q28uhMWV5",
        "outputId": "edeb6cc9-bbb4-46eb-8634-a3a5adb9754f"
      },
      "execution_count": 10,
      "outputs": [
        {
          "output_type": "execute_result",
          "data": {
            "text/plain": [
              "array([72, 36,  3, 27,  2])"
            ]
          },
          "metadata": {},
          "execution_count": 10
        }
      ]
    },
    {
      "cell_type": "markdown",
      "source": [
        "6. Створіть два вектори розміром 7, заповніть довільними числами та знайдіть їх скалярний добуток."
      ],
      "metadata": {
        "id": "vfEq8NZCOgPh"
      }
    },
    {
      "cell_type": "code",
      "source": [
        "e1=np.random.randint(1,11, 7)\n",
        "e2=np.random.randint(1,11, 7)\n",
        "e1, e2"
      ],
      "metadata": {
        "colab": {
          "base_uri": "https://localhost:8080/"
        },
        "id": "tzhZjULVOmeW",
        "outputId": "bd88c30c-d6f3-4242-ebc4-defdb055146a"
      },
      "execution_count": 11,
      "outputs": [
        {
          "output_type": "execute_result",
          "data": {
            "text/plain": [
              "(array([ 3,  8,  5,  1,  5,  5, 10]), array([10,  4,  7,  5, 10,  2,  1]))"
            ]
          },
          "metadata": {},
          "execution_count": 11
        }
      ]
    },
    {
      "cell_type": "code",
      "source": [
        "np.dot(e1,e2)"
      ],
      "metadata": {
        "colab": {
          "base_uri": "https://localhost:8080/"
        },
        "id": "xQz-BnK7PcT5",
        "outputId": "31f0a399-3ac3-44cd-dea3-cfa0bff34dcb"
      },
      "execution_count": 12,
      "outputs": [
        {
          "output_type": "execute_result",
          "data": {
            "text/plain": [
              "172"
            ]
          },
          "metadata": {},
          "execution_count": 12
        }
      ]
    },
    {
      "cell_type": "markdown",
      "source": [
        "7. Створіть дві матриці розміром 2x2 та 2x3, заповніть їх випадковими цілими числами в діапазоні від 1 до 10 та перемножте їх між собою."
      ],
      "metadata": {
        "id": "1bq6qX47P0Z6"
      }
    },
    {
      "cell_type": "code",
      "source": [
        "f1=np.random.randint(1,11, size=(2,2))\n",
        "f2=np.random.randint(1,11, size=(2,3))\n",
        "f1, f2"
      ],
      "metadata": {
        "colab": {
          "base_uri": "https://localhost:8080/"
        },
        "id": "bU9X_AdaQAVv",
        "outputId": "50d8a2a3-d8e9-4409-ccd6-abb5d0afd869"
      },
      "execution_count": 13,
      "outputs": [
        {
          "output_type": "execute_result",
          "data": {
            "text/plain": [
              "(array([[ 6, 10],\n",
              "        [ 5,  8]]),\n",
              " array([[ 1,  9,  9],\n",
              "        [10,  3,  3]]))"
            ]
          },
          "metadata": {},
          "execution_count": 13
        }
      ]
    },
    {
      "cell_type": "code",
      "source": [
        "np.dot(f1,f2)"
      ],
      "metadata": {
        "colab": {
          "base_uri": "https://localhost:8080/"
        },
        "id": "knpRK2MRQmBU",
        "outputId": "7a60ef04-4928-40a6-caaa-d24e404da386"
      },
      "execution_count": 14,
      "outputs": [
        {
          "output_type": "execute_result",
          "data": {
            "text/plain": [
              "array([[106,  84,  84],\n",
              "       [ 85,  69,  69]])"
            ]
          },
          "metadata": {},
          "execution_count": 14
        }
      ]
    },
    {
      "cell_type": "markdown",
      "source": [
        "8. Створіть матрицю розміром 3x3, заповніть її випадковими цілими числами в діапазоні від 1 до 10 та знайдіть її обернену матрицю."
      ],
      "metadata": {
        "id": "NiMMZHtrQy1L"
      }
    },
    {
      "cell_type": "code",
      "source": [
        "g=np.random.randint(1,11, size=(3,3))\n",
        "g"
      ],
      "metadata": {
        "colab": {
          "base_uri": "https://localhost:8080/"
        },
        "id": "-USg3EykQ0Tw",
        "outputId": "64691681-0995-436c-e2c7-8b1276316755"
      },
      "execution_count": 15,
      "outputs": [
        {
          "output_type": "execute_result",
          "data": {
            "text/plain": [
              "array([[ 9,  3,  2],\n",
              "       [ 4, 10,  9],\n",
              "       [ 5, 10,  9]])"
            ]
          },
          "metadata": {},
          "execution_count": 15
        }
      ]
    },
    {
      "cell_type": "code",
      "source": [
        "np.linalg.inv(g)"
      ],
      "metadata": {
        "colab": {
          "base_uri": "https://localhost:8080/"
        },
        "id": "_h9NS7zQTVAR",
        "outputId": "14108c07-7cd4-4de7-a04e-688f39d2397d"
      },
      "execution_count": 16,
      "outputs": [
        {
          "output_type": "execute_result",
          "data": {
            "text/plain": [
              "array([[-4.44089210e-16, -1.00000000e+00,  1.00000000e+00],\n",
              "       [ 1.28571429e+00,  1.01428571e+01, -1.04285714e+01],\n",
              "       [-1.42857143e+00, -1.07142857e+01,  1.11428571e+01]])"
            ]
          },
          "metadata": {},
          "execution_count": 16
        }
      ]
    },
    {
      "cell_type": "markdown",
      "source": [
        "9. Створіть матрицю розміром 4x4, заповніть її випадковими дійсними числами в діапазоні від 0 до 1 та транспонуйте її."
      ],
      "metadata": {
        "id": "FxT26V50TriE"
      }
    },
    {
      "cell_type": "code",
      "source": [
        "h=np.random.rand(4,4)\n",
        "h"
      ],
      "metadata": {
        "colab": {
          "base_uri": "https://localhost:8080/"
        },
        "id": "WP9e4tXwTx5Z",
        "outputId": "5ecb677a-09aa-49e4-cfda-4d9eaeeb4800"
      },
      "execution_count": 17,
      "outputs": [
        {
          "output_type": "execute_result",
          "data": {
            "text/plain": [
              "array([[0.2543412 , 0.26760558, 0.68705097, 0.89096883],\n",
              "       [0.23004985, 0.13892599, 0.88299472, 0.92171467],\n",
              "       [0.26899669, 0.28976419, 0.80831985, 0.34266498],\n",
              "       [0.35005656, 0.88620221, 0.36055862, 0.06274496]])"
            ]
          },
          "metadata": {},
          "execution_count": 17
        }
      ]
    },
    {
      "cell_type": "code",
      "source": [
        "np.transpose(h)"
      ],
      "metadata": {
        "colab": {
          "base_uri": "https://localhost:8080/"
        },
        "id": "bdjjXop8UApm",
        "outputId": "f0e345f4-97ad-48df-e33d-cb96dc5def11"
      },
      "execution_count": 18,
      "outputs": [
        {
          "output_type": "execute_result",
          "data": {
            "text/plain": [
              "array([[0.2543412 , 0.23004985, 0.26899669, 0.35005656],\n",
              "       [0.26760558, 0.13892599, 0.28976419, 0.88620221],\n",
              "       [0.68705097, 0.88299472, 0.80831985, 0.36055862],\n",
              "       [0.89096883, 0.92171467, 0.34266498, 0.06274496]])"
            ]
          },
          "metadata": {},
          "execution_count": 18
        }
      ]
    },
    {
      "cell_type": "code",
      "source": [
        "h.T"
      ],
      "metadata": {
        "colab": {
          "base_uri": "https://localhost:8080/"
        },
        "id": "V-ip0uExY9aZ",
        "outputId": "adfda0dc-73a7-4be3-e91b-0d83707bafbf"
      },
      "execution_count": 19,
      "outputs": [
        {
          "output_type": "execute_result",
          "data": {
            "text/plain": [
              "array([[0.2543412 , 0.23004985, 0.26899669, 0.35005656],\n",
              "       [0.26760558, 0.13892599, 0.28976419, 0.88620221],\n",
              "       [0.68705097, 0.88299472, 0.80831985, 0.36055862],\n",
              "       [0.89096883, 0.92171467, 0.34266498, 0.06274496]])"
            ]
          },
          "metadata": {},
          "execution_count": 19
        }
      ]
    },
    {
      "cell_type": "markdown",
      "source": [
        "10. Створіть матрицю розміром 3x4 та вектор розміром 4, заповніть їх випадковими цілими числами в діапазоні від 1 до 10 та перемножте матрицю на вектор."
      ],
      "metadata": {
        "id": "vSjqco8wVUq9"
      }
    },
    {
      "cell_type": "code",
      "source": [
        "i1=np.random.randint(1,11, size=(3,4))\n",
        "i2=np.random.randint(1,11, 4)\n",
        "np.dot(i1,i2)"
      ],
      "metadata": {
        "colab": {
          "base_uri": "https://localhost:8080/"
        },
        "id": "Ctp7yo7JVao_",
        "outputId": "b3b728f7-117f-42d6-df21-0dc6bc3ffc48"
      },
      "execution_count": 20,
      "outputs": [
        {
          "output_type": "execute_result",
          "data": {
            "text/plain": [
              "array([30, 52, 79])"
            ]
          },
          "metadata": {},
          "execution_count": 20
        }
      ]
    },
    {
      "cell_type": "markdown",
      "source": [
        "11. Створіть матрицю розміром 2x3 та вектор розміром 3, заповніть їх випадковими дійсними числами в діапазоні від 0 до 1 та перемножте матрицю на вектор."
      ],
      "metadata": {
        "id": "B_s9pnxxtuzW"
      }
    },
    {
      "cell_type": "code",
      "source": [
        "j1=np.random.rand(2,3)\n",
        "j2=np.random.random(3)\n",
        "np.dot(j1,j2)"
      ],
      "metadata": {
        "colab": {
          "base_uri": "https://localhost:8080/"
        },
        "outputId": "e222acdf-ea4a-44bc-f393-a73cc0567a8d",
        "id": "uA8zBXAkt8BW"
      },
      "execution_count": 21,
      "outputs": [
        {
          "output_type": "execute_result",
          "data": {
            "text/plain": [
              "array([1.1906293 , 0.47707955])"
            ]
          },
          "metadata": {},
          "execution_count": 21
        }
      ]
    },
    {
      "cell_type": "markdown",
      "source": [
        "12. Створіть дві матриці розміром 2x2, заповніть їх випадковими цілими числами в діапазоні від 1 до 10 та виконайте їхнє поелементне множення."
      ],
      "metadata": {
        "id": "cvvdDKcbuec1"
      }
    },
    {
      "cell_type": "code",
      "source": [
        "k1=np.random.randint(1,11, size=(2,2))\n",
        "k2=np.random.randint(1,11, size=(2,2))\n",
        "k1*k2"
      ],
      "metadata": {
        "colab": {
          "base_uri": "https://localhost:8080/"
        },
        "id": "mC5vrF0uujPn",
        "outputId": "c721661a-deb9-4308-d905-62f48c18eef9"
      },
      "execution_count": 22,
      "outputs": [
        {
          "output_type": "execute_result",
          "data": {
            "text/plain": [
              "array([[64, 54],\n",
              "       [27,  7]])"
            ]
          },
          "metadata": {},
          "execution_count": 22
        }
      ]
    },
    {
      "cell_type": "markdown",
      "source": [
        "13. Створіть дві матриці розміром 2x2, заповніть їх випадковими цілими числами в діапазоні від 1 до 10 та знайдіть їх добуток."
      ],
      "metadata": {
        "id": "rIY627K-u7wG"
      }
    },
    {
      "cell_type": "code",
      "source": [
        "l1=np.random.randint(1,11, size=(2,2))\n",
        "l2=np.random.randint(1,11, size=(2,2))\n",
        "np.dot(l1,l2)"
      ],
      "metadata": {
        "colab": {
          "base_uri": "https://localhost:8080/"
        },
        "id": "KtHAI95HvDdT",
        "outputId": "dd28c292-03a8-4e22-e683-22cedf9b4e2e"
      },
      "execution_count": 24,
      "outputs": [
        {
          "output_type": "execute_result",
          "data": {
            "text/plain": [
              "array([[94, 16],\n",
              "       [53,  8]])"
            ]
          },
          "metadata": {},
          "execution_count": 24
        }
      ]
    },
    {
      "cell_type": "markdown",
      "source": [
        "14. Створіть матрицю розміром 5x5, заповніть її випадковими цілими числами в діапазоні від 1 до 100 та знайдіть суму елементів матриці."
      ],
      "metadata": {
        "id": "oYP4F7oQw9rc"
      }
    },
    {
      "cell_type": "code",
      "source": [
        "m=np.random.randint(1,101, size=(5,5))\n",
        "print(m)\n",
        "np.sum(m)"
      ],
      "metadata": {
        "colab": {
          "base_uri": "https://localhost:8080/"
        },
        "id": "3DYeNM89xFQQ",
        "outputId": "19d9bb9e-46bf-4cb1-fd39-6ba6aca70e64"
      },
      "execution_count": 29,
      "outputs": [
        {
          "output_type": "stream",
          "name": "stdout",
          "text": [
            "[[37 98 26 98 36]\n",
            " [12  1 56 49 35]\n",
            " [53 93 84 35 65]\n",
            " [14 41 20 49  6]\n",
            " [63 98 82 38 46]]\n"
          ]
        },
        {
          "output_type": "execute_result",
          "data": {
            "text/plain": [
              "1235"
            ]
          },
          "metadata": {},
          "execution_count": 29
        }
      ]
    },
    {
      "cell_type": "markdown",
      "source": [
        "15. Створіть дві матриці розміром 4x4, заповніть їх випадковими цілими числами в діапазоні від 1 до 10 та знайдіть їхню різницю."
      ],
      "metadata": {
        "id": "zgSAQ39tBBBZ"
      }
    },
    {
      "cell_type": "code",
      "source": [
        "n1=np.random.randint(1,11, size=(4,4))\n",
        "n2=np.random.randint(1,11, size=(4,4))\n",
        "n1, n2"
      ],
      "metadata": {
        "colab": {
          "base_uri": "https://localhost:8080/"
        },
        "id": "OcPkwlGvE4CJ",
        "outputId": "25e72596-f3bd-40ce-a8e2-270dab66f8aa"
      },
      "execution_count": 43,
      "outputs": [
        {
          "output_type": "execute_result",
          "data": {
            "text/plain": [
              "(array([[5, 6, 6, 6],\n",
              "        [4, 5, 2, 8],\n",
              "        [9, 5, 6, 7],\n",
              "        [2, 2, 2, 3]]),\n",
              " array([[ 3,  2,  8,  7],\n",
              "        [10, 10,  1,  5],\n",
              "        [ 8,  5,  9,  4],\n",
              "        [ 5,  2,  8, 10]]))"
            ]
          },
          "metadata": {},
          "execution_count": 43
        }
      ]
    },
    {
      "cell_type": "code",
      "source": [
        "n1-n2"
      ],
      "metadata": {
        "colab": {
          "base_uri": "https://localhost:8080/"
        },
        "id": "8FTl0AoTId9j",
        "outputId": "8b2d3174-5552-40b2-c5eb-42fc7c3057fb"
      },
      "execution_count": 45,
      "outputs": [
        {
          "output_type": "execute_result",
          "data": {
            "text/plain": [
              "array([[ 2,  4, -2, -1],\n",
              "       [-6, -5,  1,  3],\n",
              "       [ 1,  0, -3,  3],\n",
              "       [-3,  0, -6, -7]])"
            ]
          },
          "metadata": {},
          "execution_count": 45
        }
      ]
    },
    {
      "cell_type": "markdown",
      "source": [
        "16. Створіть матрицю розміром 3x3, заповніть її випадковими дійсними числами в діапазоні від 0 до 1 та знайдіть вектор-стовпчик, що містить суму елементів кожного рядка матриці."
      ],
      "metadata": {
        "id": "-LKdYwcVItRU"
      }
    },
    {
      "cell_type": "code",
      "source": [
        "o1=np.random.rand(3,3)\n",
        "o1"
      ],
      "metadata": {
        "colab": {
          "base_uri": "https://localhost:8080/"
        },
        "id": "qYQGFnfLJA4Y",
        "outputId": "fce10c08-e6d3-4a5f-b726-69d020b87676"
      },
      "execution_count": 71,
      "outputs": [
        {
          "output_type": "execute_result",
          "data": {
            "text/plain": [
              "array([[0.43976419, 0.32255037, 0.22321909],\n",
              "       [0.20929067, 0.20344196, 0.20082621],\n",
              "       [0.04778368, 0.57317555, 0.03224723]])"
            ]
          },
          "metadata": {},
          "execution_count": 71
        }
      ]
    },
    {
      "cell_type": "code",
      "source": [
        "o2=o1.sum(axis=1).reshape(-1,1)\n",
        "o2"
      ],
      "metadata": {
        "colab": {
          "base_uri": "https://localhost:8080/"
        },
        "id": "DcGWpDtwJXi4",
        "outputId": "3785a13b-fc7f-4838-812c-1e2886cbb673"
      },
      "execution_count": 66,
      "outputs": [
        {
          "output_type": "execute_result",
          "data": {
            "text/plain": [
              "array([[1.89130544],\n",
              "       [2.04840221],\n",
              "       [1.53233036]])"
            ]
          },
          "metadata": {},
          "execution_count": 66
        }
      ]
    },
    {
      "cell_type": "markdown",
      "source": [
        "17. Створіть матрицю розміром 3x4 з довільними цілими числами і створінь матрицю з квадратами цих чисел.\n"
      ],
      "metadata": {
        "id": "3PmdKTXwTvsn"
      }
    },
    {
      "cell_type": "code",
      "source": [
        "p=np.random.randint(1,11, size=(3,4))\n",
        "print(p)\n",
        "print()\n",
        "print(p*p)"
      ],
      "metadata": {
        "colab": {
          "base_uri": "https://localhost:8080/"
        },
        "id": "wQOLCwc-T8O4",
        "outputId": "90025b4a-7652-4b14-d940-6030913bcf2d"
      },
      "execution_count": 83,
      "outputs": [
        {
          "output_type": "stream",
          "name": "stdout",
          "text": [
            "[[ 1  9  2  5]\n",
            " [ 3  2  8 10]\n",
            " [10  4  1 10]]\n",
            "\n",
            "[[  1  81   4  25]\n",
            " [  9   4  64 100]\n",
            " [100  16   1 100]]\n"
          ]
        }
      ]
    },
    {
      "cell_type": "markdown",
      "source": [
        "18. Створіть вектор розміром 4, заповніть його випадковими цілими числами в діапазоні від 1 до 50 та знайдіть вектор з квадратними коренями цих чисел."
      ],
      "metadata": {
        "id": "rqDM9oTkV-1x"
      }
    },
    {
      "cell_type": "code",
      "source": [
        "r=np.random.randint(1,51, 4)\n",
        "print(r)\n",
        "print()\n",
        "print((r**0.5).round(2))"
      ],
      "metadata": {
        "colab": {
          "base_uri": "https://localhost:8080/"
        },
        "id": "3M_pw9LKWGE5",
        "outputId": "a9a67e47-2340-4f11-e619-4b060db9f66e"
      },
      "execution_count": 97,
      "outputs": [
        {
          "output_type": "stream",
          "name": "stdout",
          "text": [
            "[11 40  7 11]\n",
            "\n",
            "[3.32 6.32 2.65 3.32]\n"
          ]
        }
      ]
    }
  ]
}